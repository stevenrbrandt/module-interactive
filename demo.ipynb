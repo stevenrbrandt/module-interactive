{
 "cells": [
  {
   "cell_type": "code",
   "execution_count": null,
   "id": "tutorial-zimbabwe",
   "metadata": {},
   "outputs": [],
   "source": [
    "import runcode\n",
    "runcode.verbosity = 0"
   ]
  },
  {
   "cell_type": "markdown",
   "id": "significant-essence",
   "metadata": {},
   "source": [
    "The runcode module has two functions, def_code (which saves the symbols you define) and run_code (which does not)."
   ]
  },
  {
   "cell_type": "code",
   "execution_count": null,
   "id": "digital-overhead",
   "metadata": {},
   "outputs": [],
   "source": [
    "# define a flag in an environment variable\n",
    "dem = \"-DM=1\""
   ]
  },
  {
   "cell_type": "code",
   "execution_count": null,
   "id": "laughing-airline",
   "metadata": {},
   "outputs": [],
   "source": [
    "%%run_code {dem} -DV=2 \n",
    "std::cout << \"hello M=\" << M << \" V=\" << V << \"\\n\";"
   ]
  },
  {
   "cell_type": "code",
   "execution_count": null,
   "id": "lonely-manor",
   "metadata": {},
   "outputs": [],
   "source": [
    "%%def_code\n",
    "int fib(int n) {\n",
    "    if(n < 2)\n",
    "        return n;\n",
    "    return fib(n-1)+fib(n-2);\n",
    "}"
   ]
  },
  {
   "cell_type": "markdown",
   "id": "constant-shower",
   "metadata": {},
   "source": [
    "The code below takes a while to run."
   ]
  },
  {
   "cell_type": "code",
   "execution_count": null,
   "id": "endangered-overview",
   "metadata": {},
   "outputs": [],
   "source": [
    "%%run_code\n",
    "std::cout << fib(42) << std::endl;"
   ]
  },
  {
   "cell_type": "code",
   "execution_count": null,
   "id": "photographic-alias",
   "metadata": {},
   "outputs": [],
   "source": [
    "%%def_code\n",
    "int n42=fib(42);"
   ]
  },
  {
   "cell_type": "markdown",
   "id": "multiple-spread",
   "metadata": {},
   "source": [
    "This code also takes a while to run, unfortunately."
   ]
  },
  {
   "cell_type": "code",
   "execution_count": null,
   "id": "young-washington",
   "metadata": {},
   "outputs": [],
   "source": [
    "%%run_code\n",
    "std::cout << \"n42=\" << n42 << std::endl;"
   ]
  },
  {
   "cell_type": "markdown",
   "id": "perceived-prompt",
   "metadata": {},
   "source": [
    "Even though the symbol n42 is still defined, this code is fast. Apparently, lazy optimization works well."
   ]
  },
  {
   "cell_type": "code",
   "execution_count": null,
   "id": "false-partner",
   "metadata": {},
   "outputs": [],
   "source": [
    "%%run_code\n",
    "std::cout << \"n10=\" << fib(10) << std::endl;"
   ]
  },
  {
   "cell_type": "markdown",
   "id": "interested-pressure",
   "metadata": {},
   "source": [
    "We can, potentially, fix this problem by using constexpr"
   ]
  },
  {
   "cell_type": "code",
   "execution_count": null,
   "id": "unique-arkansas",
   "metadata": {
    "scrolled": true
   },
   "outputs": [],
   "source": [
    "%%def_code\n",
    "constexpr int fibc(int n) {\n",
    "    if(n < 2) {\n",
    "        return n;\n",
    "    } else {\n",
    "        return fibc(n-1)+fibc(n-2);\n",
    "    }\n",
    "}"
   ]
  },
  {
   "cell_type": "code",
   "execution_count": null,
   "id": "prostate-deadline",
   "metadata": {},
   "outputs": [],
   "source": [
    "cexpr_flags = \"-fconstexpr-steps=5000000 -fconstexpr-depth=40\""
   ]
  },
  {
   "cell_type": "markdown",
   "id": "deluxe-junction",
   "metadata": {},
   "source": [
    "Unfortunately, setting of constexpr inside a module doesn't work at the moment"
   ]
  },
  {
   "cell_type": "code",
   "execution_count": null,
   "id": "institutional-vinyl",
   "metadata": {},
   "outputs": [],
   "source": [
    "%%def_code {cexpr_flags}\n",
    "extern int fc28;\n",
    "%%lib\n",
    "constexpr int fc28_ = fibc(28);\n",
    "int fc28 = fc28_;"
   ]
  },
  {
   "cell_type": "markdown",
   "id": "frequent-soundtrack",
   "metadata": {},
   "source": [
    "This retrieves the value quickly..."
   ]
  },
  {
   "cell_type": "code",
   "execution_count": null,
   "id": "violent-conjunction",
   "metadata": {},
   "outputs": [],
   "source": [
    "%%run_code\n",
    "\n",
    "std::cout << \"fc28=\" << fc28 << std::endl;"
   ]
  },
  {
   "cell_type": "markdown",
   "id": "atmospheric-cooking",
   "metadata": {},
   "source": [
    "Thee's another way to store values between cell evaluations"
   ]
  },
  {
   "cell_type": "code",
   "execution_count": null,
   "id": "short-accreditation",
   "metadata": {},
   "outputs": [],
   "source": [
    "%%def_code\n",
    "struct Counter {\n",
    "    int n;\n",
    "    Counter() : n(0) {}\n",
    "    ~Counter() { std::cout << \"reset counter\"; }\n",
    "    void count() {\n",
    "        std::cout << \"n=\" << (n++) << std::endl;\n",
    "    }\n",
    "};"
   ]
  },
  {
   "cell_type": "code",
   "execution_count": null,
   "id": "relevant-mills",
   "metadata": {},
   "outputs": [],
   "source": [
    "%%run_code\n",
    "Seg seg(\"mem\");\n",
    "Counter *c = seg.allocate<Counter>(\"counter\");\n",
    "c->count();\n",
    "if(c->n == 5)\n",
    "   seg.remove(c);"
   ]
  },
  {
   "cell_type": "code",
   "execution_count": null,
   "id": "distributed-swaziland",
   "metadata": {
    "scrolled": true
   },
   "outputs": [],
   "source": [
    "%%run_code\n",
    "Seg seg(\"mem\");\n",
    "Array<double>& arr=*seg.allocate_array<double>(\"data\", 100);\n",
    "if(arr.init()) std::cout << \"init\" << std::endl;\n",
    "seg.remove(&arr);"
   ]
  },
  {
   "cell_type": "code",
   "execution_count": null,
   "id": "based-cement",
   "metadata": {},
   "outputs": [],
   "source": [
    "%%run_code\n",
    "#include <math.h>\n",
    "\n",
    "Seg seg(\"mem\");\n",
    "const int N=100;\n",
    "Array<double>& a = *seg.allocate_array<double>(\"data\",N);\n",
    "Array<double>& b = *seg.allocate_array<double>(\"data2\",N);\n",
    "double dx = 1.0/a.size();\n",
    "for(int i=0;i<a.size();i++) {\n",
    "    double x = i*dx;\n",
    "    a[i] = x;\n",
    "    b[i] = sin(x);\n",
    "}"
   ]
  },
  {
   "cell_type": "code",
   "execution_count": null,
   "id": "seventh-landscape",
   "metadata": {},
   "outputs": [],
   "source": [
    "import clangw\n",
    "import numpy as np\n",
    "import matplotlib.pyplot as plt\n",
    "\n",
    "abuf = clangw.allocate_array(\"mem\",\"data\",100)\n",
    "a = np.asarray(abuf)\n",
    "\n",
    "bbuf = clangw.allocate_array(\"mem\",\"data2\",100)\n",
    "b = np.asarray(bbuf)\n",
    "\n",
    "plt.plot(a,b)"
   ]
  },
  {
   "cell_type": "markdown",
   "id": "religious-prairie",
   "metadata": {},
   "source": [
    "Parallel execution is straighforward"
   ]
  },
  {
   "cell_type": "code",
   "execution_count": null,
   "id": "yellow-output",
   "metadata": {},
   "outputs": [],
   "source": [
    "%%run_code\n",
    "import <iostream>;\n",
    "import <future>;\n",
    "auto a = std::async(std::launch::async, [](){ return 42; });\n",
    "std::cout << \"a=\" << a.get() << std::endl;"
   ]
  },
  {
   "cell_type": "code",
   "execution_count": null,
   "id": "fresh-insurance",
   "metadata": {},
   "outputs": [],
   "source": [
    "import re\n",
    "import os\n",
    "\n",
    "def rmitem(item_pattern,items):\n",
    "    new_items = []\n",
    "    for item in items:\n",
    "        if not re.match(item_pattern, item):\n",
    "            new_items += [item]\n",
    "    return new_items\n",
    "\n",
    "os.environ[\"LD_LIBRARY_PATH\"]=\"/usr/local/lib64\"\n",
    "os.environ[\"PKG_CONFIG_PATH\"]=\"/usr/local/lib64/pkgconfig\"\n",
    "runcode.verbose = False\n",
    "from subprocess import Popen, PIPE\n",
    "p = Popen(\"pkg-config --cflags --libs hpx_application_release\".split(\" \"),\n",
    "          stdout=PIPE,stderr=PIPE,universal_newlines=True)\n",
    "out, err = p.communicate()\n",
    "# Set the application flags\n",
    "runcode.appflags = rmitem(r'-std=.*',out.strip().split(' '))\n",
    "\n",
    "p = Popen(\"pkg-config --cflags hpx_application_release\".split(\" \"),\n",
    "          stdout=PIPE,stderr=PIPE,universal_newlines=True)\n",
    "out, err = p.communicate()\n",
    "# Set the module flags\n",
    "runcode.modflags = rmitem(r'-std=.*',out.strip().split(' '))"
   ]
  },
  {
   "cell_type": "code",
   "execution_count": null,
   "id": "spoken-reporter",
   "metadata": {
    "scrolled": true
   },
   "outputs": [],
   "source": [
    "%%run_code\n",
    "#include <hpx/hpx.hpp>\n",
    "#include <hpx/hpx_main.hpp>\n",
    "\n",
    "auto a = hpx::async([](){ return 42; });\n",
    "std::cout << a.get() << std::endl;"
   ]
  },
  {
   "cell_type": "markdown",
   "id": "identified-return",
   "metadata": {},
   "source": [
    "Running HPX requires that we set up some stuff..."
   ]
  },
  {
   "cell_type": "markdown",
   "id": "peaceful-screen",
   "metadata": {},
   "source": [
    "For some reason I don't understand, no %%def_code segment can include hpx."
   ]
  },
  {
   "cell_type": "code",
   "execution_count": null,
   "id": "atmospheric-elephant",
   "metadata": {},
   "outputs": [],
   "source": []
  }
 ],
 "metadata": {
  "kernelspec": {
   "display_name": "Python 3",
   "language": "python",
   "name": "python3"
  },
  "language_info": {
   "codemirror_mode": {
    "name": "ipython",
    "version": 3
   },
   "file_extension": ".py",
   "mimetype": "text/x-python",
   "name": "python",
   "nbconvert_exporter": "python",
   "pygments_lexer": "ipython3",
   "version": "3.8.7"
  }
 },
 "nbformat": 4,
 "nbformat_minor": 5
}
